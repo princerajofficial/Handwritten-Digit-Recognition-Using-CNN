{
 "cells": [
  {
   "cell_type": "code",
   "execution_count": 2,
   "metadata": {},
   "outputs": [
    {
     "name": "stdout",
     "output_type": "stream",
     "text": [
      "Downloading data from https://s3.amazonaws.com/img-datasets/mnist.npz\n",
      "11493376/11490434 [==============================] - 454s 40us/step\n",
      "(60000, 28, 28) (60000,)\n"
     ]
    }
   ],
   "source": [
    "import keras\n",
    "from keras.datasets import mnist\n",
    "from keras.models import Sequential\n",
    "from keras.layers import Dense, Dropout, Flatten\n",
    "from keras.layers import Conv2D, MaxPooling2D\n",
    "from keras import backend as K\n",
    "\n",
    "# the data, split between train and test sets\n",
    "(x_train, y_train), (x_test, y_test) = mnist.load_data()\n",
    "\n",
    "print(x_train.shape, y_train.shape)\n"
   ]
  },
  {
   "cell_type": "code",
   "execution_count": 3,
   "metadata": {},
   "outputs": [],
   "source": [
    "x_train = x_train.reshape(x_train.shape[0], 28, 28, 1)\n",
    "x_test = x_test.reshape(x_test.shape[0], 28, 28, 1)\n",
    "input_shape = (28, 28, 1)"
   ]
  },
  {
   "cell_type": "code",
   "execution_count": 4,
   "metadata": {},
   "outputs": [
    {
     "name": "stdout",
     "output_type": "stream",
     "text": [
      "x_train shape: (60000, 28, 28, 1)\n",
      "60000 train samples\n",
      "10000 test samples\n",
      "Train on 60000 samples, validate on 10000 samples\n",
      "Epoch 1/10\n",
      "60000/60000 [==============================] - 27s 448us/step - loss: 0.3621 - accuracy: 0.8896 - val_loss: 0.0673 - val_accuracy: 0.9811\n",
      "Epoch 2/10\n",
      "60000/60000 [==============================] - 30s 492us/step - loss: 0.1079 - accuracy: 0.9715 - val_loss: 0.0393 - val_accuracy: 0.9871\n",
      "Epoch 3/10\n",
      "60000/60000 [==============================] - 30s 494us/step - loss: 0.0779 - accuracy: 0.9795 - val_loss: 0.0366 - val_accuracy: 0.9882\n",
      "Epoch 4/10\n",
      "60000/60000 [==============================] - 31s 522us/step - loss: 0.0631 - accuracy: 0.9839 - val_loss: 0.0346 - val_accuracy: 0.9897\n",
      "Epoch 5/10\n",
      "60000/60000 [==============================] - 29s 488us/step - loss: 0.0548 - accuracy: 0.9860 - val_loss: 0.0260 - val_accuracy: 0.9927\n",
      "Epoch 6/10\n",
      "60000/60000 [==============================] - 30s 505us/step - loss: 0.0458 - accuracy: 0.9876 - val_loss: 0.0252 - val_accuracy: 0.9922\n",
      "Epoch 7/10\n",
      "60000/60000 [==============================] - 28s 464us/step - loss: 0.0394 - accuracy: 0.9897 - val_loss: 0.0252 - val_accuracy: 0.9927\n",
      "Epoch 8/10\n",
      "60000/60000 [==============================] - 29s 479us/step - loss: 0.0362 - accuracy: 0.9906 - val_loss: 0.0241 - val_accuracy: 0.9924\n",
      "Epoch 9/10\n",
      "60000/60000 [==============================] - 30s 495us/step - loss: 0.0337 - accuracy: 0.9911 - val_loss: 0.0224 - val_accuracy: 0.9923\n",
      "Epoch 10/10\n",
      "60000/60000 [==============================] - 30s 501us/step - loss: 0.0291 - accuracy: 0.9925 - val_loss: 0.0241 - val_accuracy: 0.9933\n",
      "The model has successfully trained\n",
      "Test loss: 0.0241182143806917\n",
      "Test accuracy: 0.9933000206947327\n",
      "Saving the model as mnist.h5\n"
     ]
    }
   ],
   "source": [
    "y_train = keras.utils.to_categorical(y_train, 10)\n",
    "y_test = keras.utils.to_categorical(y_test, 10)\n",
    "\n",
    "x_train = x_train.astype('float32')\n",
    "x_test = x_test.astype('float32')\n",
    "x_train /= 255\n",
    "x_test /= 255\n",
    "print('x_train shape:', x_train.shape)\n",
    "print(x_train.shape[0], 'train samples')\n",
    "print(x_test.shape[0], 'test samples')\n",
    "\n",
    "batch_size = 128\n",
    "num_classes = 10\n",
    "epochs = 10\n",
    "\n",
    "model = Sequential()\n",
    "model.add(Conv2D(32, kernel_size=(5, 5),activation='relu',input_shape=input_shape))\n",
    "model.add(MaxPooling2D(pool_size=(2, 2)))\n",
    "model.add(Conv2D(64, (3, 3), activation='relu'))\n",
    "model.add(MaxPooling2D(pool_size=(2, 2)))\n",
    "model.add(Flatten())\n",
    "model.add(Dense(128, activation='relu'))\n",
    "model.add(Dropout(0.3))\n",
    "model.add(Dense(64, activation='relu'))\n",
    "model.add(Dropout(0.5))\n",
    "model.add(Dense(num_classes, activation='softmax'))\n",
    "\n",
    "model.compile(loss=keras.losses.categorical_crossentropy,optimizer=keras.optimizers.Adadelta(),metrics=['accuracy'])\n",
    "\n",
    "hist = model.fit(x_train, y_train,batch_size=batch_size,epochs=epochs,verbose=1,validation_data=(x_test, y_test))\n",
    "print(\"The model has successfully trained\")\n",
    "\n",
    "score = model.evaluate(x_test, y_test, verbose=0)\n",
    "print('Test loss:', score[0])\n",
    "print('Test accuracy:', score[1])\n",
    "\n",
    "model.save('mnist.h5')\n",
    "print(\"Saving the model as mnist.h5\")\n"
   ]
  },
  {
   "cell_type": "code",
   "execution_count": null,
   "metadata": {},
   "outputs": [],
   "source": []
  }
 ],
 "metadata": {
  "kernelspec": {
   "display_name": "Python 3",
   "language": "python",
   "name": "python3"
  },
  "language_info": {
   "codemirror_mode": {
    "name": "ipython",
    "version": 3
   },
   "file_extension": ".py",
   "mimetype": "text/x-python",
   "name": "python",
   "nbconvert_exporter": "python",
   "pygments_lexer": "ipython3",
   "version": "3.7.10"
  }
 },
 "nbformat": 4,
 "nbformat_minor": 4
}
